{
  "nbformat": 4,
  "nbformat_minor": 0,
  "metadata": {
    "colab": {
      "name": "logistic regression.ipynb",
      "provenance": [],
      "authorship_tag": "ABX9TyOyvvO5BYPvUvR6o9fpRpWT",
      "include_colab_link": true
    },
    "kernelspec": {
      "name": "python3",
      "display_name": "Python 3"
    }
  },
  "cells": [
    {
      "cell_type": "markdown",
      "metadata": {
        "id": "view-in-github",
        "colab_type": "text"
      },
      "source": [
        "<a href=\"https://colab.research.google.com/github/domshog/Random-Forest-Classifier/blob/main/logistic_regression.ipynb\" target=\"_parent\"><img src=\"https://colab.research.google.com/assets/colab-badge.svg\" alt=\"Open In Colab\"/></a>"
      ]
    },
    {
      "cell_type": "code",
      "metadata": {
        "id": "IV1F-rR1Qivk"
      },
      "source": [
        "import numpy as np\r\n",
        "import matplotlib.pyplot as plt\r\n",
        "\r\n",
        "import seaborn as sns\r\n",
        "\r\n",
        "from sklearn.linear_model import LogisticRegression as SKLR"
      ],
      "execution_count": 15,
      "outputs": []
    },
    {
      "cell_type": "code",
      "metadata": {
        "colab": {
          "base_uri": "https://localhost:8080/"
        },
        "id": "0y6AcpW0Ry8g",
        "outputId": "4c8bd4ef-6995-4b60-b3c8-b09613b0ef17"
      },
      "source": [
        "mean_01 = [0,0]\r\n",
        "\r\n",
        "cov_01 = [[2,0.2], [0.2,1]]\r\n",
        "\r\n",
        "mean_02 = [3,1]\r\n",
        "\r\n",
        "cov_02 = [[1.5,-0.2], [-0.2,2]]\r\n",
        "\r\n",
        "dist_01 = np.random.multivariate_normal(mean_01, cov_01, 500)\r\n",
        "\r\n",
        "dist_02 = np.random.multivariate_normal(mean_02, cov_02, 500)\r\n",
        "\r\n",
        "print(dist_01.shape, dist_02.shape)"
      ],
      "execution_count": 16,
      "outputs": [
        {
          "output_type": "stream",
          "text": [
            "(500, 2) (500, 2)\n"
          ],
          "name": "stdout"
        }
      ]
    },
    {
      "cell_type": "code",
      "metadata": {
        "colab": {
          "base_uri": "https://localhost:8080/",
          "height": 265
        },
        "id": "EHFWmH54SNSX",
        "outputId": "ce2059a6-6284-4ff8-8e76-19b7a1a7fd24"
      },
      "source": [
        "plt.figure()\r\n",
        "\r\n",
        "plt.scatter(dist_01[:,0], dist_01[:,1], color='red')\r\n",
        "\r\n",
        "plt.scatter(dist_02[:,0], dist_02[:,1], color='green')\r\n",
        "\r\n",
        "plt.show()"
      ],
      "execution_count": 17,
      "outputs": [
        {
          "output_type": "display_data",
          "data": {
            "image/png": "[encoded data removed]",
            "text/plain": [
              "<Figure size 432x288 with 1 Axes>"
            ]
          },
          "metadata": {
            "tags": [],
            "needs_background": "light"
          }
        }
      ]
    },
    {
      "cell_type": "code",
      "metadata": {
        "colab": {
          "base_uri": "https://localhost:8080/"
        },
        "id": "ZZkwAEwCS56i",
        "outputId": "dd278d52-5758-4cc5-a577-4752b4087f26"
      },
      "source": [
        "dataset = np.zeros((dist_01.shape[0] + dist_02.shape[0], dist_01.shape[1] + 1))\r\n",
        "\r\n",
        "dataset[:dist_01.shape[0], :-1] = dist_01\r\n",
        "\r\n",
        "dataset[dist_01.shape[0]:, :-1] = dist_02\r\n",
        "\r\n",
        " \r\n",
        "\r\n",
        "# Red = 0, Green = 1\r\n",
        "\r\n",
        "dataset[dist_02.shape[0]:, -1] = 1\r\n",
        "\r\n",
        " \r\n",
        "\r\n",
        "dataset.shape\r\n"
      ],
      "execution_count": 18,
      "outputs": [
        {
          "output_type": "execute_result",
          "data": {
            "text/plain": [
              "(1000, 3)"
            ]
          },
          "metadata": {
            "tags": []
          },
          "execution_count": 18
        }
      ]
    },
    {
      "cell_type": "code",
      "metadata": {
        "colab": {
          "base_uri": "https://localhost:8080/"
        },
        "id": "GBjet6MXgi2D",
        "outputId": "dba16a6e-9bf7-47e8-e476-227a14e5da4d"
      },
      "source": [
        "np.random.shuffle(dataset)\r\n",
        "\r\n",
        "from sklearn.model_selection import train_test_split\r\n",
        "\r\n",
        "X_train, X_test, y_train, y_test = train_test_split(dataset[:,:-1], dataset[:,-1], test_size=0.2)\r\n",
        "\r\n",
        "X_train.shape, X_test.shape, y_train.shape, y_test.shape"
      ],
      "execution_count": 19,
      "outputs": [
        {
          "output_type": "execute_result",
          "data": {
            "text/plain": [
              "((800, 2), (200, 2), (800,), (200,))"
            ]
          },
          "metadata": {
            "tags": []
          },
          "execution_count": 19
        }
      ]
    },
    {
      "cell_type": "code",
      "metadata": {
        "colab": {
          "base_uri": "https://localhost:8080/"
        },
        "id": "JsWN0cQRxHLE",
        "outputId": "dcd82435-718c-42c9-b186-a99c687346ce"
      },
      "source": [
        "sk_logreg = SKLR()\r\n",
        "\r\n",
        "sk_logreg.fit(X_train, y_train)"
      ],
      "execution_count": 23,
      "outputs": [
        {
          "output_type": "execute_result",
          "data": {
            "text/plain": [
              "LogisticRegression(C=1.0, class_weight=None, dual=False, fit_intercept=True,\n",
              "                   intercept_scaling=1, l1_ratio=None, max_iter=100,\n",
              "                   multi_class='auto', n_jobs=None, penalty='l2',\n",
              "                   random_state=None, solver='lbfgs', tol=0.0001, verbose=0,\n",
              "                   warm_start=False)"
            ]
          },
          "metadata": {
            "tags": []
          },
          "execution_count": 23
        }
      ]
    },
    {
      "cell_type": "code",
      "metadata": {
        "colab": {
          "base_uri": "https://localhost:8080/"
        },
        "id": "NgjkVn4FEB-4",
        "outputId": "834304a3-999d-495c-ab59-d2ca85fa02b0"
      },
      "source": [
        "sk_logreg.score(X_test, y_test)"
      ],
      "execution_count": 24,
      "outputs": [
        {
          "output_type": "execute_result",
          "data": {
            "text/plain": [
              "0.89"
            ]
          },
          "metadata": {
            "tags": []
          },
          "execution_count": 24
        }
      ]
    }
  ]
}